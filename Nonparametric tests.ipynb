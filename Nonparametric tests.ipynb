{
  "metadata": {
    "kernelspec": {
      "name": "python",
      "display_name": "Python (Pyodide)",
      "language": "python"
    },
    "language_info": {
      "codemirror_mode": {
        "name": "python",
        "version": 3
      },
      "file_extension": ".py",
      "mimetype": "text/x-python",
      "name": "python",
      "nbconvert_exporter": "python",
      "pygments_lexer": "ipython3",
      "version": "3.8"
    }
  },
  "nbformat_minor": 4,
  "nbformat": 4,
  "cells": [
    {
      "cell_type": "code",
      "source": "# Scenario 1\n# What test would you use to compare median reaction times between geodes and limestone, and why?\nprint(\"I would use the Mann-Whitney test bc we have the reaction time from geodes and limestone, which are two unpaired samples.\")\n\n#Scenario 2\n# You want to start by refuting the simple that that the participants' measured ages are not changed by the treatment. \n      # What test do you use and why?\nprint(\"I would use the sign test bc that is the test used to determine if there is no systematic direction of treatment effect.\")\n\n#Scenario 3\n#You want to know if the device reliably increases, decreases, or does not affect their liking of product X. \n#What test would you use and why? What result would indicate that their liking has increased?\nprint(\"I would use the wilcoxon-signed rank test because the two samples are paired together, as they come from the same subjects before and after using the device.\")",
      "metadata": {
        "trusted": true
      },
      "outputs": [
        {
          "name": "stdout",
          "text": "I would use the Mann-Whitney test bc we have the reaction time from geodes and limestone, which are two unpaired samples.\nI would use the sign test bc that is the test used to determine if there is no systematic direction of treatment effect.\nI would use the wilcoxon-signed rank test because the two samples are paired together, as they come from the same subjects before and after using the device.\n",
          "output_type": "stream"
        }
      ],
      "execution_count": 6
    },
    {
      "cell_type": "code",
      "source": "",
      "metadata": {
        "trusted": true
      },
      "outputs": [],
      "execution_count": null
    }
  ]
}