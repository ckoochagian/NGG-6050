{
  "nbformat": 4,
  "nbformat_minor": 0,
  "metadata": {
    "colab": {
      "provenance": []
    },
    "kernelspec": {
      "name": "python3",
      "display_name": "Python 3"
    },
    "language_info": {
      "name": "python"
    }
  },
  "cells": [
    {
      "cell_type": "code",
      "execution_count": 5,
      "metadata": {
        "colab": {
          "base_uri": "https://localhost:8080/"
        },
        "id": "0xV7G7FCz3jE",
        "outputId": "fb2d9a59-5e6f-4960-e8d4-eacdec8ebfb1"
      },
      "outputs": [
        {
          "output_type": "stream",
          "name": "stderr",
          "text": [
            "<ipython-input-5-641b3ccd2a5a>:38: RuntimeWarning: divide by zero encountered in log\n",
            "  log_likelihoods = np.log(likelihoods)\n"
          ]
        },
        {
          "output_type": "stream",
          "name": "stdout",
          "text": [
            "Best fitting parameters: [0.49801886 0.10065717]\n",
            "Negative log likelihood given by objective function: -87.70964234966407\n"
          ]
        }
      ],
      "source": [
        "import numpy as np\n",
        "from scipy.optimize import minimize\n",
        "from scipy.optimize import minimize, basinhopping\n",
        "\n",
        "\n",
        "#Step 1: Get the data (gotta convert Matlab code into python)\n",
        "\n",
        "def later_getData(arg1, arg2, param):\n",
        "    # Placeholder function to simulate data retrieval\n",
        "    # Let's assume it returns a list where the first element is reaction times (RTs)\n",
        "    RTs = np.random.normal(loc=0.5, scale=0.1, size=100)  # Example data: 100 random RTs\n",
        "    return [RTs]\n",
        "# Retrieve the data (similar to later_getData in MATLAB)\n",
        "data = later_getData([], [], 0.2)\n",
        "\n",
        "# Extract RTs\n",
        "RTs = data[0]\n",
        "\n",
        "del data\n",
        "\n",
        "#Step 2: Define the objective function\n",
        "\n",
        "#parameters of LATER Model\n",
        "muR = np.mean(RTs)\n",
        "delta_s = np.std(RTs, ddof = 1)\n",
        "mu = muR/delta_s\n",
        "sigma = 1/delta_s\n",
        "\n",
        "# Assuming 'RTs' is a list or numpy array of reaction times (RTs),\n",
        "# and 'fits' is a 2-element vector of [muR, deltaS] (model parameters)\n",
        "def laterErrFcn(fits, RTs):\n",
        "    muR, delta_s = fits\n",
        "\n",
        "    # Compute likelihood for each RT (assuming Gaussian likelihood for simplicity)\n",
        "    likelihoods = (1 / (delta_s * np.sqrt(2 * np.pi))) * np.exp(-((RTs - muR)**2) / (2 * delta_s**2))\n",
        "\n",
        "    # Take the logarithm of the likelihood\n",
        "    log_likelihoods = np.log(likelihoods)\n",
        "\n",
        "    # Sum the log-likelihoods\n",
        "    total_log_likelihood = np.sum(log_likelihoods)\n",
        "\n",
        "    # Return the negative of the total log-likelihood (since we want to minimize this function)\n",
        "    return -total_log_likelihood\n",
        "\n",
        "\n",
        "#Step 3: Definining initial conditions\n",
        "#Define the bounds for the parameters (muR and deltaS)\n",
        "lowerBounds = [0.001, 0.001]\n",
        "upperBounds = [1000, 1000]\n",
        "bounds = [(low, high) for low, high in zip(lowerBounds, upperBounds)]\n",
        "\n",
        "# Initial values (pick based on empirical statistics of RT distribution)\n",
        "initialValues = [0.5, 0.1]  # Example initial values for muR and deltaS\n",
        "\n",
        "# Perform the minimization using the L-BFGS-B algorithm with bounds\n",
        "result = minimize(laterErrFcn, initialValues, args=(RTs,), bounds=bounds, method='L-BFGS-B')\n",
        "\n",
        "#Step 4: Run the fits\n",
        "# Define the minimization problem\n",
        "def objective_function(fits):\n",
        "    return laterErrFcn(fits, RTs)\n",
        "\n",
        "# Create the 'minimizer' function for local minimization\n",
        "def local_minimizer(fits):\n",
        "    result = minimize(objective_function, fits, bounds=bounds, method='L-BFGS-B', options={'maxiter': 3000})\n",
        "    return result\n",
        "\n",
        "# Set up the basinhopping global optimization\n",
        "minimizer_kwargs = {\"method\": \"L-BFGS-B\", \"bounds\": bounds}\n",
        "\n",
        "# Perform the global optimization using basinhopping\n",
        "result = basinhopping(objective_function, initialValues, minimizer_kwargs=minimizer_kwargs, niter=100)\n",
        "\n",
        "# Get the best-fitting parameter values and the negative log-likelihood\n",
        "fits = result.x  # Optimal parameter values\n",
        "nllk = result.fun  # Value of the objective function (negative log-likelihood)\n",
        "\n",
        "print(f\"Best fitting parameters: {fits}\")\n",
        "print(f\"Negative log likelihood given by objective function: {nllk}\")\n",
        "\n",
        "#Part 5: Evaluate fits\n",
        "print(\"Typically you can do further statistical analysis or plot the fitted model with the data to determine whether the fit is reasonable\")\n"
      ]
    }
  ]
}