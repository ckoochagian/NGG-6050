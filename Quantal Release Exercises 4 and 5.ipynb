{
  "metadata": {
    "kernelspec": {
      "name": "python",
      "display_name": "Python (Pyodide)",
      "language": "python"
    },
    "language_info": {
      "codemirror_mode": {
        "name": "python",
        "version": 3
      },
      "file_extension": ".py",
      "mimetype": "text/x-python",
      "name": "python",
      "nbconvert_exporter": "python",
      "pygments_lexer": "ipython3",
      "version": "3.8"
    }
  },
  "nbformat_minor": 4,
  "nbformat": 4,
  "cells": [
    {
      "cell_type": "code",
      "source": "#Exercise 4\n#What is the most likely value of p-hat given our sample with a resolution of 0.01?\nimport numpy as np\n\n#Data\nmeasured_releases = np.array([0, 1, 2, 3, 4, 5, 6, 7, 8, 9, 10, 11, 12, 13, 14]) #the number of possible releases that could be measured\ncounts = np.array([0, 0, 3, 7, 10, 19, 26, 16, 16, 5, 5, 0, 0, 0, 0]) #the number/count for each measured release\n\n#determine the number of measurements made\ntotal_num_measurements = np.sum(counts)\n\n# determine total number of quanta released\ntotal_quanta_released = np.sum(measured_releases * counts)\n\n#calculate p-hat,  estimated release probability (ratio of total releases to the total (max) possible number of releases)\np_hat = total_quanta_released / (total_num_measurements * max(measured_releases))\n\n#print results\nprint(f\"With the total number of measurments made being {total_num_measurements}, and the total number of quanta released across the measurements being {total_quanta_released}, the most likely value of p-hat is {p_hat:.2f}\")\n",
      "metadata": {
        "trusted": true
      },
      "outputs": [
        {
          "name": "stdout",
          "text": "With the total number of measurments made being 107, and the total number of quanta released across the measurements being 653, the most likely value of p-hat is 0.44\n",
          "output_type": "stream"
        }
      ],
      "execution_count": 3
    },
    {
      "cell_type": "code",
      "source": "#Exercise 5\nimport numpy as np\nimport scipy.stats as stats\n#So you change the temperature, perform the experiment, and measure 7 quantal events for the same 14 available quanta. Compute p-hat\n#Null hypothesis would be that temperature does not impact release probability\n\nH_null = 0.3 #release probability of the null hypothesis\nmax_possible_quanta = 14\nmeasured_quanta_released = 7\n\n#A. calculate p-hat\np_hat = measured_quanta_released / max_possible_quanta\n\n#probability given null hypothesis is true\nprob_H_null_true = stats.binom.pmf(measured_quanta_released, max_possible_quanta, H_null)\n\nprint(f\"With a temperature change, the observed p-hat is {p_hat}\")\nprint(f\"The probability that we obtained these data given the null hypothesis is true is {prob_H_null_true}\")\n\n#B. Can you conclude that temperature had an effect?\n#calculate p-value \np_value = 1 - binom.cdf(measured_quanta_released - 1, max_possible_quanta, H_null)\np_value_2tails = 2 * min(p_value, binom.cdf(observed_successes, n_trials, p_null))\n\nprint(f\"P-value (one-tailed): {p_value}\")\nprint(f\"P-value (two-tailed): {p_value_2tails}\")\n\n# Decide if temperature had an effect\nalpha = 0.05  # Significance level\nif p_value < alpha:\n    print(\"Reject the null hypothesis. Temperature likely had an effect.\")\nelse:\n    print(\"Fail to reject the null hypothesis. No significant effect of temperature.\")",
      "metadata": {
        "trusted": true
      },
      "outputs": [
        {
          "name": "stdout",
          "text": "With a temperature change, the observed p-hat is 0.5\nThe probability that we obtained these data given the null hypothesis is true is 0.06181335872712\nP-value (one-tailed): 0.09328189116275998\nP-value (two-tailed): 0.18656378232551996\nFail to reject the null hypothesis. No significant effect of temperature.\n",
          "output_type": "stream"
        }
      ],
      "execution_count": 4
    },
    {
      "cell_type": "code",
      "source": "",
      "metadata": {
        "trusted": true
      },
      "outputs": [],
      "execution_count": null
    }
  ]
}