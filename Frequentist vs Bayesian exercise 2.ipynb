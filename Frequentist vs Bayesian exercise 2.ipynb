{
  "metadata": {
    "kernelspec": {
      "name": "python",
      "display_name": "Python (Pyodide)",
      "language": "python"
    },
    "language_info": {
      "codemirror_mode": {
        "name": "python",
        "version": 3
      },
      "file_extension": ".py",
      "mimetype": "text/x-python",
      "name": "python",
      "nbconvert_exporter": "python",
      "pygments_lexer": "ipython3",
      "version": "3.8"
    }
  },
  "nbformat_minor": 4,
  "nbformat": 4,
  "cells": [
    {
      "cell_type": "code",
      "source": "import scipy.stats as st\nimport numpy as np\n\n#sample size\nN = 1000\n\nfalse_positive_rate = 0.05\nfalse_negative_rate = 0\n\ninfection_rate = np.arange(0, 1, 0.1)\ninfected = N * infection_rate\n\nnot_infected = N - infected\n\ntotal_false_positive = false_positive_rate * not_infected\n\ntotal_positive = infected - total_false_positive\n\n#Calculate probability positive test is infected\nprobability_positive_true = infection_rate/(1*infection_rate + 0.05 * (1 - infection_rate))\n\nprint (f\"With an infection rate of {infection_rate}, the probability of a true positive is {probability_positive_true}.\")",
      "metadata": {
        "trusted": true
      },
      "outputs": [
        {
          "name": "stdout",
          "text": "With an infection rate of [0.  0.1 0.2 0.3 0.4 0.5 0.6 0.7 0.8 0.9], the probability of a true positive is [0.         0.68965517 0.83333333 0.89552239 0.93023256 0.95238095\n 0.96774194 0.97902098 0.98765432 0.99447514].\n",
          "output_type": "stream"
        }
      ],
      "execution_count": 23
    },
    {
      "cell_type": "code",
      "source": "",
      "metadata": {
        "trusted": true
      },
      "outputs": [],
      "execution_count": null
    },
    {
      "cell_type": "code",
      "source": "",
      "metadata": {
        "trusted": true
      },
      "outputs": [],
      "execution_count": null
    }
  ]
}