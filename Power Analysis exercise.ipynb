{
  "metadata": {
    "kernelspec": {
      "name": "python",
      "display_name": "Python (Pyodide)",
      "language": "python"
    },
    "language_info": {
      "codemirror_mode": {
        "name": "python",
        "version": 3
      },
      "file_extension": ".py",
      "mimetype": "text/x-python",
      "name": "python",
      "nbconvert_exporter": "python",
      "pygments_lexer": "ipython3",
      "version": "3.8"
    }
  },
  "nbformat_minor": 4,
  "nbformat": 4,
  "cells": [
    {
      "cell_type": "code",
      "source": "import numpy as np\nimport matplotlib.pyplot as plt\nfrom scipy.stats import pearsonr\nfrom statsmodels.stats.power import TTestIndPower\n\n# Define function to compute correlation coefficients\ndef compute_correlation(pupil_data, lc_data):\n    correlation, _ = pearsonr(pupil_data, lc_data)\n    return correlation\n\n# Define function to simulate data and compute correlation coefficients\ndef simulate_data(n_samples, effect_size):\n    # Simulate pupil diameter data (Gaussian)\n    pupil_data = np.random.normal(loc=0, scale=1, size=n_samples)\n    \n    # Simulate LC spiking data (Poisson)\n    lc_data = np.random.poisson(lam=1, size=n_samples)\n    \n    # Adding effect size to simulate a non-null correlation\n    lc_data += effect_size * pupil_data\n    \n    # Compute correlation coefficient\n    return compute_correlation(pupil_data, lc_data)\n\n# Define function to calculate power\ndef calculate_power(n_samples, effect_size, alpha=0.05):\n    # Calculate power for given effect size and sample size\n    analysis = TTestIndPower()\n    return analysis.power(effect_size, nobs1=n_samples, alpha=alpha, ratio=1)\n\n# Parameters\neffect_sizes = np.linspace(0.1, 1.0, 10)  # Effect sizes to evaluate\nsample_sizes = np.arange(10, 101, 10)  # Range of sample sizes\npower_target = 0.80  # Desired power level\n\n# To store results\nsample_size_needed = []\n\n# Iterate over effect sizes\nfor effect_size in effect_sizes:\n    # Find the sample size needed for each effect size\n    for n_samples in sample_sizes:\n        power = calculate_power(n_samples, effect_size)\n        if power >= power_target:\n            sample_size_needed.append((effect_size, n_samples))\n            break\n\n# Convert results to arrays for plotting\neffect_sizes_plot, sample_sizes_plot = zip(*sample_size_needed)\n\n# Plotting\nplt.figure(figsize=(10, 6))\nplt.plot(effect_sizes_plot, sample_sizes_plot, marker='o', linestyle='-', color='b')\nplt.xlabel('Effect Size')\nplt.ylabel('Sample Size Needed')\nplt.title('Sample Size Needed to Achieve 80% Power for Different Effect Sizes')\nplt.grid(True)\nplt.show()\n",
      "metadata": {
        "trusted": true
      },
      "outputs": [],
      "execution_count": null
    }
  ]
}