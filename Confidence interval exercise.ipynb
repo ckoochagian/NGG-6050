{
  "metadata": {
    "kernelspec": {
      "name": "python",
      "display_name": "Python (Pyodide)",
      "language": "python"
    },
    "language_info": {
      "codemirror_mode": {
        "name": "python",
        "version": 3
      },
      "file_extension": ".py",
      "mimetype": "text/x-python",
      "name": "python",
      "nbconvert_exporter": "python",
      "pygments_lexer": "ipython3",
      "version": "3.8"
    }
  },
  "nbformat_minor": 4,
  "nbformat": 4,
  "cells": [
    {
      "cell_type": "code",
      "source": "import numpy as np\nimport scipy.stats as stats\n\n# Given values\nmean = 10\nstd_dev = 2\nconfidence_level = 0.95\nz_score = stats.norm.ppf((1 + confidence_level) / 2)  # Z-score for 95% confidence\n\n# Sample sizes\nsample_sizes = [5, 10, 20, 40, 80, 160, 1000]\n\n# Calculate confidence intervals\nfor n in sample_sizes:\n    margin_of_error = z_score * (std_dev / np.sqrt(n))\n    lower_bound = mean - margin_of_error\n    upper_bound = mean + margin_of_error\n    print(f\"Sample size: {n}\")\n    print(f\"95% Confidence Interval: ({lower_bound:.2f}, {upper_bound:.2f})\")\n    print()",
      "metadata": {
        "trusted": true
      },
      "outputs": [
        {
          "name": "stdout",
          "text": "Sample size: 5\n95% Confidence Interval: (8.25, 11.75)\n\nSample size: 10\n95% Confidence Interval: (8.76, 11.24)\n\nSample size: 20\n95% Confidence Interval: (9.12, 10.88)\n\nSample size: 40\n95% Confidence Interval: (9.38, 10.62)\n\nSample size: 80\n95% Confidence Interval: (9.56, 10.44)\n\nSample size: 160\n95% Confidence Interval: (9.69, 10.31)\n\nSample size: 1000\n95% Confidence Interval: (9.88, 10.12)\n\n",
          "output_type": "stream"
        }
      ],
      "execution_count": 1
    },
    {
      "cell_type": "code",
      "source": "",
      "metadata": {
        "trusted": true
      },
      "outputs": [],
      "execution_count": null
    }
  ]
}