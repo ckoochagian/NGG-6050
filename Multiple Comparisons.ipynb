{
  "metadata": {
    "kernelspec": {
      "name": "python",
      "display_name": "Python (Pyodide)",
      "language": "python"
    },
    "language_info": {
      "codemirror_mode": {
        "name": "python",
        "version": 3
      },
      "file_extension": ".py",
      "mimetype": "text/x-python",
      "name": "python",
      "nbconvert_exporter": "python",
      "pygments_lexer": "ipython3",
      "version": "3.8"
    }
  },
  "nbformat_minor": 4,
  "nbformat": 4,
  "cells": [
    {
      "cell_type": "code",
      "source": "import numpy as np\nimport scipy.stats as st\n\n#parameters for two unpaired samples, same mean and same standard deviation\nmu = 0\nsigma = 1\nn = 100 #assume that both samples have the same sample size\nnum_tests = 1000\nalpha = 0.05 \n\n#create place holder to store p-values\np_values = []\n\n#simulate the experiment\nfor _ in range(num_tests):\n        #generate random samples\n        sample_1 = np.random.normal(mu, sigma, n)\n        sample_2 = np.random.normal(mu, sigma, n)\n        \n        #perform independent-test\n        tstat, pval = st.ttest_ind(sample_1, sample_2)\n\n        #append p-values from t-test to list, leave out tstat\n        p_values.append(pval)\n\np_values = np.array(p_values)\n\n#determine the number of p-values that are significant prior to correction (<0.05)\nsig_p_values_b4_correction = np.sum(p_values < alpha)\nprint(f\"The number of significant p-values without corrections for multiple comparisons is {sig_p_values_b4_correction} out of {num_tests}\")\n\n#Bonferroni correction\nbonferroni_alpha = alpha / num_tests\nsig_p_values_bonferroni = np.sum(p_values < bonferroni_alpha)\nprint(f\"The number of significant p-values after a bonferroni correction for multiple comparisons is {sig_p_values_bonferroni} out of {num_tests}\")\n\n#benjamini-hochberg prodecure\nsorted_p_values = np.sort(p_values) #must rank p_values in ascending order\nbh_threshold = (np.arange(1, num_tests+1) / num_tests) * alpha #to get critical value you divide each index(rank) by number of experiments, then multiply by alpha\nsig_p_values_bh = np.sum(p_values < bh_threshold)\nprint(f\"The number of significant p-values after a benjamini-hochberg correcttion for multiple comparisons is {sig_p_values_bh} out of {num_tests}\")\n",
      "metadata": {
        "trusted": true
      },
      "outputs": [
        {
          "name": "stdout",
          "text": "The number of significant p-values without corrections for multiple comparisons is 41 out of 1000\nThe number of significant p-values after a bonferroni correction for multiple comparisons is 0 out of 1000\nThe number of significant p-values after a benjamini-hochberg correcttion for multiple comparisons is 14 out of 1000\n",
          "output_type": "stream"
        }
      ],
      "execution_count": 88
    },
    {
      "cell_type": "code",
      "source": "import scipy.stats as st\n\n#parameters for two unpaired samples, different means and same standard deviation\nmu_1 = 1\nmu_2 = 2\nsigma = 1\nn = 100 #assume that both samples have the same sample size\nnum_tests = 1000\nalpha = 0.05 \n\n#create place holder to store p-values\np_values = []\n\n#simulate the experiment\nfor _ in range(num_tests):\n        #generate random samples\n        sample_1 = np.random.normal(mu_1, sigma, n)\n        sample_2 = np.random.normal(mu_2, sigma, n)\n        \n        #perform independent-test\n        tstat, pval = st.ttest_ind(sample_1, sample_2)\n\n        #append p-values from t-test to list, leave out t-stat\n        p_values.append(pval)\n\np_values = np.array(p_values)\n\n#determine the number of p-values that are significant prior to correction (<0.05)\nsig_p_values_b4_correction = np.sum(p_values < alpha)\nprint(f\"The number of significant p-values without corrections for multiple comparisons is {sig_p_values_b4_correction} out of {num_tests}\")\n\n#Bonferroni correction\nbonferroni_alpha = alpha / num_tests\nsig_p_values_bonferroni = np.sum(p_values < bonferroni_alpha)\nprint(f\"The number of significant p-values after a bonferroni correction for multiple comparisons is {sig_p_values_bonferroni} out of {num_tests}\")\n\n#benjamini-hochberg prodecure\nsorted_p_values = np.sort(p_values) #must rank p_values in ascending order\nbh_threshold = (np.arange(1, num_tests+1) / num_tests) * alpha #to get critical value you divide each index(rank) by number of experiments, then multiply by alpha\nsig_p_values_bh = np.sum(p_values < bh_threshold)\nprint(f\"The number of significant p-values after a benjamini-hochberg correction for multiple comparisons is {sig_p_values_bh} out of {num_tests}\")\n",
      "metadata": {
        "trusted": true
      },
      "outputs": [
        {
          "name": "stdout",
          "text": "The number of significant p-values without corrections for multiple comparisons is 1000 out of 1000\nThe number of significant p-values after a bonferroni correction for multiple comparisons is 994 out of 1000\nThe number of significant p-values after a benjamini-hochberg correction for multiple comparisons is 1000 out of 1000\n",
          "output_type": "stream"
        }
      ],
      "execution_count": 91
    },
    {
      "cell_type": "code",
      "source": "import scipy.stats as st\n\n#parameters for two unpaired samples, different means and same standard deviation\nmu_1 = 1\nmu_2 = 7\nsigma = 1\nn = 100 #assume that both samples have the same sample size\nnum_tests = 1000\nalpha = 0.05 \n\n#create place holder to store p-values\np_values = []\n\n#simulate the experiment\nfor _ in range(num_tests):\n        #generate random samples\n        sample_1 = np.random.normal(mu_1, sigma, n)\n        sample_2 = np.random.normal(mu_2, sigma, n)\n        \n        #perform independent-test\n        tstat, pval = st.ttest_ind(sample_1, sample_2)\n\n        #append p-values from t-test to list, leave out tstat\n        p_values.append(pval)\n\np_values = np.array(p_values)\n\n#determine the number of p-values that are significant prior to correction (<0.05)\nsig_p_values_b4_correction = np.sum(p_values < alpha)\nprint(f\"The number of significant p-values without corrections for multiple comparisons is {sig_p_values_b4_correction} out of {num_tests}\")\n\n#Bonferroni correction\nbonferroni_alpha = alpha / num_tests\nsig_p_values_bonferroni = np.sum(p_values < bonferroni_alpha)\nprint(f\"The number of significant p-values after a bonferroni correction for multiple comparisons is {sig_p_values_bonferroni} out of {num_tests}\")\n\n#benjamini-hochberg prodecure\nsorted_p_values = np.sort(p_values) #must rank p_values in ascending order\nbh_threshold = (np.arange(1, num_tests+1) / num_tests) * alpha #to get critical value you divide each index(rank) by number of experiments, then multiply by alpha\nsig_p_values_bh = np.sum(p_values < bh_threshold)\nprint(f\"The number of significant p-values after a benjamini-hochberg correction for multiple comparisons is {sig_p_values_bh} out of {num_tests}\")\n",
      "metadata": {
        "trusted": true
      },
      "outputs": [
        {
          "name": "stdout",
          "text": "The number of significant p-values without corrections for multiple comparisons is 1000 out of 1000\nThe number of significant p-values after a bonferroni correction for multiple comparisons is 1000 out of 1000\nThe number of significant p-values after a benjamini-hochberg correction for multiple comparisons is 1000 out of 1000\n",
          "output_type": "stream"
        }
      ],
      "execution_count": 92
    },
    {
      "cell_type": "code",
      "source": "",
      "metadata": {
        "trusted": true
      },
      "outputs": [],
      "execution_count": null
    }
  ]
}